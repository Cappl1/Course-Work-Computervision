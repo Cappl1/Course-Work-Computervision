{
 "cells": [
  {
   "cell_type": "code",
   "execution_count": null,
   "id": "2940e95f",
   "metadata": {},
   "outputs": [],
   "source": []
  },
  {
   "cell_type": "markdown",
   "id": "bcfb5226",
   "metadata": {},
   "source": [
    "# Deep Learning for Computer Vision\n",
    "\n",
    "---\n",
    "\n",
    "**Goethe University Frankfurt am Main**\n",
    "\n",
    "Winter Semester 2022/23\n",
    "\n",
    "<br>\n",
    "\n",
    "## *Assignment 1 (k-Nearest Neighbor)*\n",
    "\n",
    "---\n",
    "\n",
    "**Points:** 40<br>\n",
    "**Due:** 2.11.2022, 10 am<br>\n",
    "**Contact:** Matthias Fulde ([fulde@cs.uni-frankfurt.de](mailto:fulde@cs.uni-frankfurt.de))<br>\n",
    "\n",
    "---\n",
    "\n",
    "**Your Name:** Bastian Rothenburger\n",
    "\n",
    "<br>"
   ]
  },
  {
   "cell_type": "markdown",
   "id": "f64171c5",
   "metadata": {},
   "source": [
    "<br>\n",
    "\n",
    "## Table of Contents\n",
    "\n",
    "---\n",
    "\n",
    "- [1 Metrics](#1-Metrics-(10-Points))\n",
    "  - [1.1 Manhattan Distance](#1.1-Manhattan-Distance-(3-Points))\n",
    "  - [1.2 Euclidean Distance](#1.2-Euclidean-Distance-(7-Points))\n",
    "- [2 Image Classification](#2-Image-Classification-(15-Points))\n",
    "  - [2.1 Preparation](#2.1-Preparation-(1-Point))\n",
    "  - [2.2 Implementation](#2.2-Implementation-(7-Points))\n",
    "  - [2.3 Validation](#2.3-Validation-(7-Points))\n",
    "- [3 Preprocessing](#3-Preprocessing-(15-Points))\n",
    "  - [3.1 Image Filtering](#3.1-Image-Filtering-(4-Points))\n",
    "  - [3.2 Principal Component Analysis](#3.2-Principal-Component-Analysis-(11-Points))\n"
   ]
  },
  {
   "cell_type": "markdown",
   "id": "31afd2c5",
   "metadata": {},
   "source": [
    "<br>\n",
    "\n",
    "## Setup\n",
    "\n",
    "---\n",
    "\n",
    "In this notebook we use the libraries **Matplotlib**, **NumPy** and **OpenCV**. We recommend to use at least the 3.x versions of OpenCV. You can check your version with the statements below."
   ]
  },
  {
   "cell_type": "code",
   "execution_count": 1,
   "id": "8b879423",
   "metadata": {},
   "outputs": [
    {
     "data": {
      "text/plain": [
       "'4.6.0'"
      ]
     },
     "execution_count": 1,
     "metadata": {},
     "output_type": "execute_result"
    }
   ],
   "source": [
    "import numpy as np\n",
    "import cv2 as cv\n",
    "\n",
    "# Check installed OpenCV version.\n",
    "cv.__version__"
   ]
  },
  {
   "cell_type": "markdown",
   "id": "a752faf1",
   "metadata": {},
   "source": [
    "We want Matplotlib figures to appear within the notebook rather than inside a separate window, which is default in some environments, therefore we make use of the `%matplotlib` magic function to set the Matplotlib backend to inline."
   ]
  },
  {
   "cell_type": "code",
   "execution_count": 2,
   "id": "1d83e934",
   "metadata": {},
   "outputs": [],
   "source": [
    "import matplotlib.pyplot as plt\n",
    "\n",
    "# Set default color map and interpolation method for images.\n",
    "plt.rcParams['image.cmap'] = 'gray'\n",
    "plt.rcParams['image.interpolation'] = 'nearest'\n",
    "\n",
    "%matplotlib inline"
   ]
  },
  {
   "cell_type": "markdown",
   "id": "17b375f0",
   "metadata": {},
   "source": [
    "We import a utility function to load the CIFAR-10 dataset. See `data.py` for how it works."
   ]
  },
  {
   "cell_type": "code",
   "execution_count": 3,
   "id": "8ad532cb",
   "metadata": {},
   "outputs": [],
   "source": [
    "from data import load_CIFAR_10"
   ]
  },
  {
   "cell_type": "markdown",
   "id": "ac9a004f",
   "metadata": {},
   "source": [
    "<br>\n",
    "\n",
    "## Exercises\n",
    "\n",
    "---"
   ]
  },
  {
   "cell_type": "markdown",
   "id": "3c08eb33",
   "metadata": {},
   "source": [
    "### 1 Metrics (10 Points)\n",
    "\n",
    "---\n",
    "\n",
    "In machine learning, both in the supervised and unsupervised learning setup, many algorithms depend in some way on measuring distances between different objects.\n",
    "\n",
    "In general, a **metric**, or **distance function**, on a set $V$ is a function $d\\colon V \\times V \\to [0, \\infty),$ where for all $x,y,z \\in V$ the following conditions are satisfied:\n",
    "\n",
    "1. $d(x,y) = 0 \\iff x = y \\enspace$ (*identity*)\n",
    "2. $d(x,y) = d(y,x) \\enspace$ (*symmetry*)\n",
    "3. $d(x,y) \\leq d(x,z) + d(z,y) \\enspace$ (*triangle inequality*)\n",
    "\n",
    "An important class of metrics are those induced by a norm, which can be interpreted as the length of a vector in a vector space. In computer vision we usually deal with vectors in some finite dimensional real vector space $\\mathbb{R}^D,$ and the metrics used are often those that are induced by a $p$-norm.\n",
    "\n",
    "For vectors $\\mathbf{x} \\in \\mathbb{R}^D$ and integers $p \\in \\mathbf{N}$, the $p$**-norm** is defined as\n",
    "\n",
    "$$\n",
    "    \\lVert\\mathbf{x}\\rVert_p = \\left(\\sum_{i=1}^D \\lvert\\mathbf{x}_i\\rvert^p\\right)^\\frac{1}{p}.\n",
    "$$\n",
    "\n",
    "<br>\n",
    "For each of these norms we obtain a metric simply by measuring the length of the difference between two points, that is\n",
    "\n",
    "$$\n",
    "    d_p(\\mathbf{x},\\mathbf{y}) := \\lVert\\mathbf{x} - \\mathbf{y}\\rVert_p,\n",
    "    \\enspace\n",
    "    \\forall \\mathbf{x},\\mathbf{y} \\in \\mathbb{R}^D.\n",
    "$$\n",
    "\n",
    "These metrics are collectively referred to as $L^p$ distances."
   ]
  },
  {
   "cell_type": "markdown",
   "id": "73d27b6b",
   "metadata": {},
   "source": [
    "<br>\n",
    "\n",
    "### 1.2 Manhattan Distance (3 Points)\n",
    "\n",
    "---\n",
    "\n",
    "One such distance that is frequently used is the $L^1$ distance, also known as **Manhattan distance**, which is defined as the sum of the absolute values of the difference between two vectors. So we have\n",
    "\n",
    "$$\n",
    "    d_1(\\mathbf{x},\\mathbf{y})\n",
    "    :=\n",
    "    \\lVert\\mathbf{x} - \\mathbf{y}\\rVert_1\n",
    "    =\n",
    "    \\sum_{i=1}^D \\lvert\\mathbf{x}_i - \\mathbf{y}_i\\rvert,\n",
    "    \\enspace\n",
    "    \\forall \\mathbf{x}, \\mathbf{y} \\in \\mathbb{R}^D.\n",
    "$$\n",
    "\n",
    "This can be conceived as defining a space where it's only possible to move in right angles parallel to the coordinate axes."
   ]
  },
  {
   "cell_type": "markdown",
   "id": "cf62019b",
   "metadata": {},
   "source": [
    "<br>\n",
    "\n",
    "#### 1.1.1 Task\n",
    "\n",
    "Consider two design matrices $\\mathbf{X} \\in \\mathbb{R}^{N \\times D}$ and $\\mathbf{Y} \\in \\mathbb{R}^{M \\times D}$, where each row represents a *sample* and each column is a *feature*. We want to compute the pairwise $L^1$ distances between the samples in $\\mathbf{X}$ and the samples in $\\mathbf{Y}$ to obtain a distance matrix $\\mathbf{D} \\in \\mathbb{R}^{N \\times M}$.\n",
    "\n",
    "We want to do this without using loops, as this tends to slow down computation significantly. So, in order to practice vectorized, loop free programming, implement the $L^1$ distance using only NumPy operations.\n",
    "\n",
    "Do **not** use the `norm` function provided with NumPy's linear algebra library!\n",
    "\n",
    "<br>\n",
    "\n",
    "#### 1.1.2 Solution\n",
    "\n",
    "Complete the function definition below."
   ]
  },
  {
   "cell_type": "code",
   "execution_count": 4,
   "id": "0cb0e77e",
   "metadata": {},
   "outputs": [],
   "source": [
    "def d1(X, Y):\n",
    "    \"\"\"\n",
    "    Compute L1 distances between samples in X and Y.\n",
    "\n",
    "    Parameters:\n",
    "        - X: Design matrix with shape (N, D).\n",
    "        - Y: Design matrix with shape (M, D).\n",
    "\n",
    "    Returns:\n",
    "        - out: Distance matrix with shape (N, M).\n",
    "\n",
    "    \"\"\"\n",
    "    ############################################################\n",
    "    ###                  START OF YOUR CODE                  ###\n",
    "    ############################################################\n",
    "    diff = y[np.newaxis,:,:]-x[:,np.newaxis,:]\n",
    "    out = np.sum(abs(diff),axis=-1)\n",
    "\n",
    "    ############################################################\n",
    "    ###                   END OF YOUR CODE                   ###\n",
    "    ############################################################\n",
    "    return out"
   ]
  },
  {
   "cell_type": "code",
   "execution_count": 5,
   "id": "96e67d36",
   "metadata": {},
   "outputs": [
    {
     "name": "stdout",
     "output_type": "stream",
     "text": [
      "[[5.19615242 5.83095189]\n",
      " [3.46410162 4.12310563]\n",
      " [3.46410162 3.        ]]\n",
      "(3, 3) (2, 3)\n",
      "[[ 91 106 226]\n",
      " [102 117 237]]\n",
      "[[5.19615242 5.83095189]\n",
      " [3.46410162 4.12310563]\n",
      " [3.46410162 3.        ]]\n"
     ]
    }
   ],
   "source": [
    "x = np.array([[1,2,3], [2,3,4], [6,7,8]])\n",
    "y = np.array([[4, 5, 6],[4, 6, 6]])\n",
    "\n",
    "\n",
    "\n",
    "diff = y[np.newaxis,:,:]-x[:,np.newaxis,:]\n",
    "\n",
    "dist = (np.sum(diff**2,axis=-1))**0.5\n",
    "print(dist)\n",
    "\n",
    "\n",
    "x2=x**2\n",
    "x2sum=np.sum(x2,axis=1)\n",
    "y2=y**2\n",
    "y2sum=np.sum(y2,axis=1)\n",
    "\n",
    "print(np.shape(x),np.shape(y))\n",
    "f=np.einsum('ij,kj->ik', x, y)\n",
    "print(x2sum[np.newaxis,:]+y2sum[:,np.newaxis])\n",
    "print((x2sum[:,np.newaxis]+y2sum[np.newaxis,:]-2*np.einsum('md,nd->nm', y, x))**0.5)"
   ]
  },
  {
   "cell_type": "markdown",
   "id": "5b2baee4",
   "metadata": {},
   "source": [
    "<br>\n",
    "\n",
    "### 1.2 Euclidean Distance (7 Points)\n",
    "\n",
    "---\n",
    "\n",
    "Another metric that is often used is the $L^2$ distance, also known as **Euclidean distance**, which can be interpreted as an application of the Pythagorean theorem, computing the length of the hypotenuse in a right triangle. It is defined as\n",
    "\n",
    "$$\n",
    "    d_2(\\mathbf{x},\\mathbf{y})\n",
    "    =\n",
    "    \\lVert\\mathbf{x} - \\mathbf{y}\\rVert_2\n",
    "    =\n",
    "    \\sqrt{\\sum_{i=1}^D \\left(\\mathbf{x} - \\mathbf{y}\\right)_i^2},\n",
    "    \\enspace\n",
    "    \\forall \\mathbf{x}, \\mathbf{y} \\in \\mathbb{R}^D.\n",
    "$$\n",
    "\n",
    "The Euclidean distances corresponds to the length of a straight line between two points.\n",
    "\n",
    "<br>\n",
    "\n",
    "#### 1.2.1 Task (2 Points)\n",
    "\n",
    "In this exercise, the goal is again to compute a distance matrix from two sets of samples, using only low-level NumPy operations. However, before we do that, we first want to transform the formula given above.\n",
    "\n",
    "Derive a formula for the Euclidean distance that represents the term within the square root as two sums, and a dot product between the vectors $\\mathbf{x}$ and $\\mathbf{y}$.\n",
    "\n",
    "<br>\n",
    "\n",
    "#### 1.2.2 Solution"
   ]
  },
  {
   "cell_type": "markdown",
   "id": "c12b126c",
   "metadata": {},
   "source": [
    "*Write your solution here.*\n",
    "\n",
    "Use second binomial theorem  and substitute the sum using the dot product\n",
    "\n",
    "$$\n",
    "    \\sqrt{\\sum_{i=1}^D \\left(\\mathbf{x} - \\mathbf{y}\\right)_i^2}=  \\sqrt{\\sum_{i=1}^D \\mathbf{x}_i^2-2\\cdot (\\mathbf{x}\\mathbf{y})_i + \\mathbf{y}_i^2}= \\sqrt{\\sum_{i=1}^D \\mathbf{x}_i^2+\\sum_{i=1}^D \\mathbf{y}_i^2- \\sum_{i=1}^D 2\\cdot (\\mathbf{x}\\mathbf{y})_i }  =\\sqrt{\\sum_{i=1}^D \\mathbf{x}_i^2+\\sum_{i=1}^D \\mathbf{y}_i^2-  2\\cdot \\mathbf{X}\\mathbf{Y} }\n",
    "$$"
   ]
  },
  {
   "cell_type": "markdown",
   "id": "14908975",
   "metadata": {},
   "source": [
    "<br>\n",
    "\n",
    "#### 1.2.3 Task (5 Points)\n",
    "\n",
    "Now use this result to write a fully vectorized function that computes the pairwise $L^2$ distances between two sets of observations, represented as design matrices $\\mathbf{X} \\in \\mathbb{R}^{N \\times D}$ and $\\mathbf{Y} \\in \\mathbb{R}^{M \\times D}$.\n",
    "\n",
    "Again, implement the calculation **without** using the `norm` function of NumPy!\n",
    "\n",
    "<br>\n",
    "\n",
    "#### 1.2.4 Solution\n",
    "\n",
    "Complete the function definition below."
   ]
  },
  {
   "cell_type": "code",
   "execution_count": 7,
   "id": "67175caa",
   "metadata": {},
   "outputs": [
    {
     "name": "stdout",
     "output_type": "stream",
     "text": [
      "[[5.19615242 5.83095189]\n",
      " [3.46410162 4.12310563]\n",
      " [3.46410162 3.        ]]\n",
      "[[5.19615242 5.83095189]\n",
      " [3.46410162 4.12310563]\n",
      " [3.46410162 3.        ]]\n"
     ]
    }
   ],
   "source": [
    "def d2(X, Y):\n",
    "    \"\"\"\n",
    "    Compute L2 distances between samples in X and Y.\n",
    "\n",
    "    Parameters:\n",
    "        - X: Design matrix with shape (N, D).\n",
    "        - Y: Design matrix with shape (M, D).\n",
    "\n",
    "    Returns:\n",
    "        - out: Distance matrix with shape (N, M).\n",
    "\n",
    "    \"\"\"\n",
    "    ############################################################\n",
    "    ###                  START OF YOUR CODE                  ###\n",
    "    ############################################################\n",
    "    #use the broadcasting on addition as in the excercise before and sprinkle in some einsum magic for the dotproducts\n",
    "    x2=X**2\n",
    "    x2sum=np.sum(x2,axis=1)\n",
    "    y2=Y**2\n",
    "    y2sum=np.sum(y2,axis=1)\n",
    "    \n",
    "    out = (x2sum[:,np.newaxis]+y2sum[np.newaxis,:]-2*np.einsum('md,nd->nm', Y, X))**0.5\n",
    "\n",
    "    \n",
    "    ############################################################\n",
    "    ###                   END OF YOUR CODE                   ###\n",
    "    ############################################################\n",
    "    return out\n",
    "\n",
    "def d2a(X, Y):\n",
    "    \"\"\"\n",
    "    Compute L2 distances between samples in X and Y.\n",
    "\n",
    "    Parameters:\n",
    "        - X: Design matrix with shape (N, D).\n",
    "        - Y: Design matrix with shape (M, D).\n",
    "\n",
    "    Returns:\n",
    "        - out: Distance matrix with shape (N, M).\n",
    "\n",
    "    \"\"\"\n",
    "    ############################################################\n",
    "    ###                  START OF YOUR CODE                  ###\n",
    "    ############################################################\n",
    "    #use the broadcasting on addition as in the excercise before and sprinkle in some einsum magic for the dotproducts\n",
    "    out = np.sqrt(np.sum((X[:,np.newaxis] - Y) ** 2, axis=-1))\n",
    "\n",
    "    \n",
    "    ############################################################\n",
    "    ###                   END OF YOUR CODE                   ###\n",
    "    ############################################################\n",
    "    return out\n",
    "\n",
    "\n",
    "x = np.array([[1,2,3], [2,3,4], [6,7,8]])\n",
    "y = np.array([[4, 5, 6],[4, 6, 6]])\n",
    "\n",
    "print(d2(x,y))\n",
    "print(d2a(x,y))"
   ]
  },
  {
   "cell_type": "markdown",
   "id": "3651ac0f",
   "metadata": {},
   "source": [
    "<br>\n",
    "\n",
    "### 2 Image Classification (15 Points)\n",
    "\n",
    "---\n",
    "\n",
    "The **k-nearest neighbor** (kNN) classification algorithm as described in the lecture builds on a simple non-parametric model, where the class of an image is solely determined by its distance to the samples in the training data set.\n",
    "\n",
    "The kNN classifier consists of two stages:\n",
    "\n",
    "- During **training**, the classifier takes the training data and simply remembers it.\n",
    "- During **testing**, it categorizes a test image by comparing it to the stored training images. It selects the most common label out of the $k$ most similar training examples as its prediction.\n",
    "\n",
    "The value of $k$ and the choice of the distance function used to compare the samples are hyperparameters of the model.\n",
    "\n",
    "---\n",
    "\n",
    "In this exercise we want to implement kNN and use it on the CIFAR-10 data set, which consists of $50.000$ training images and $10.000$ test images, where each sample is a small $32 \\times 32$ pixel color image belonging to one of ten classes.\n",
    "\n",
    "The first step is to load the data into main memory.\n",
    "\n",
    "Please note that loading the complete data set into main memory and converting it to floats might exceed the memory capacity of older machines. In case you encounter problems loading the data, you should try loading a single batch first by adjusting the definition of the `load_CIFAR_10` function, which is imported from the `data.py` module."
   ]
  },
  {
   "cell_type": "code",
   "execution_count": 5,
   "id": "03d98379",
   "metadata": {},
   "outputs": [],
   "source": [
    "# Load the raw CIFAR-10 data.\n",
    "X_train, y_train, X_test, y_test = load_CIFAR_10('cifar-10-batches-py')"
   ]
  },
  {
   "cell_type": "markdown",
   "id": "cda43baa",
   "metadata": {},
   "source": [
    "In order to see how the images are stored, we print out the shape of the data sets."
   ]
  },
  {
   "cell_type": "code",
   "execution_count": 6,
   "id": "371fe17d",
   "metadata": {},
   "outputs": [
    {
     "name": "stdout",
     "output_type": "stream",
     "text": [
      "Training data shape: (50000, 32, 32, 3)\n",
      "Training labels shape: (50000,)\n",
      "Test data shape: (10000, 32, 32, 3)\n",
      "Test labels shape: (10000,)\n"
     ]
    }
   ],
   "source": [
    "print(\n",
    "    f'Training data shape: {X_train.shape}',\n",
    "    f'Training labels shape: {y_train.shape}',\n",
    "    f'Test data shape: {X_test.shape}',\n",
    "    f'Test labels shape: {y_test.shape}',\n",
    "    sep = '\\n'\n",
    ")"
   ]
  },
  {
   "cell_type": "markdown",
   "id": "7cc828cc",
   "metadata": {},
   "source": [
    "<br>\n",
    "\n",
    "### 2.1 Preparation (1 Point)\n",
    "\n",
    "Whenever we devise a machine learning algorithm, it's good practice to have a closer look at the data that we're about to use. So let's inspect the data set by selecting a random batch of five images per class."
   ]
  },
  {
   "cell_type": "code",
   "execution_count": 7,
   "id": "c5d82cf4",
   "metadata": {},
   "outputs": [
    {
     "data": {
      "image/png": "[encoded data removed]",
      "text/plain": [
       "<Figure size 800x500 with 50 Axes>"
      ]
     },
     "metadata": {},
     "output_type": "display_data"
    }
   ],
   "source": [
    "# Visualize some examples from the dataset.\n",
    "labels = ['plane', 'car', 'bird', 'cat', 'deer', 'dog', 'frog', 'horse', 'ship', 'truck']\n",
    "\n",
    "num_classes = 10\n",
    "num_samples = 5\n",
    "\n",
    "figure = plt.figure(figsize=(8, 5))\n",
    "\n",
    "for y, label in enumerate(labels):\n",
    "    indices = np.random.choice(np.flatnonzero(y_train == y), num_samples, replace=False)\n",
    "\n",
    "    # Show images in a grid with one column per class.\n",
    "    for i, index in enumerate(indices):\n",
    "        plt.subplot(num_samples, num_classes, i*num_classes + y + 1)\n",
    "        plt.axis(False)\n",
    "        plt.imshow(X_train[index].astype(np.uint8))\n",
    "\n",
    "        if i == 0:\n",
    "            plt.title(label)\n",
    "\n",
    "plt.show()"
   ]
  },
  {
   "cell_type": "markdown",
   "id": "a4b2db3b",
   "metadata": {},
   "source": [
    "To reduce the time for code execution in this exercise we subsample the training and test data."
   ]
  },
  {
   "cell_type": "code",
   "execution_count": 8,
   "id": "569c4d16",
   "metadata": {},
   "outputs": [],
   "source": [
    "# We use 5000 examples from the training set.\n",
    "indices = np.arange(5000)\n",
    "\n",
    "X_train = X_train[indices]\n",
    "y_train = y_train[indices]\n",
    "\n",
    "# We use 500 examples from the test set.\n",
    "indices = np.arange(500)\n",
    "\n",
    "X_test = X_test[indices]\n",
    "y_test = y_test[indices]"
   ]
  },
  {
   "cell_type": "markdown",
   "id": "7ba8b6f8",
   "metadata": {},
   "source": [
    "The kNN algorithm expects the data points in the training and test set to be vectors and not tensors, so we have to convert the images to vectors before we can use them.\n",
    "\n",
    "<br>\n",
    "\n",
    "#### 2.1.1 Task\n",
    "\n",
    "Complete the definition of the `to_vector` function below. The function should take a set of images shaped like the training and test data loaded before and transform each image into a vector. Use only vectorized NumPy operations.\n",
    "\n",
    "<br>\n",
    "\n",
    "#### 2.1.2 Solution\n",
    "\n",
    "Fill your code in the code cell below."
   ]
  },
  {
   "cell_type": "code",
   "execution_count": 93,
   "id": "01d5c89f",
   "metadata": {},
   "outputs": [],
   "source": [
    "def to_vector(images):\n",
    "    \"\"\"\n",
    "    Transform images into vectors.\n",
    "    Expects a data set where samples are stored in the first dimension.\n",
    "    \"\"\"\n",
    "    ############################################################\n",
    "    ###                  START OF YOUR CODE                  ###\n",
    "    ############################################################\n",
    "    if len(np.shape(images))==4:\n",
    "        zero,one,two,three =np.shape(images)\n",
    "        out = np.reshape(images,(zero,one*two*three))\n",
    "    if len(np.shape(images))==3: \n",
    "        zero,one,two =np.shape(images)\n",
    "        out = np.reshape(images,(zero,one*two))\n",
    "    ############################################################\n",
    "    ###                   END OF YOUR CODE                   ###\n",
    "    ############################################################\n",
    "    return out"
   ]
  },
  {
   "cell_type": "markdown",
   "id": "3f379243",
   "metadata": {},
   "source": [
    "Let's transform the samples for training and testing."
   ]
  },
  {
   "cell_type": "code",
   "execution_count": 10,
   "id": "12aa5ed5",
   "metadata": {},
   "outputs": [
    {
     "name": "stdout",
     "output_type": "stream",
     "text": [
      "Training data shape: (5000, 3072)\n",
      "Test data shape: (500, 3072)\n"
     ]
    }
   ],
   "source": [
    "# Transform training and test images into vectors.\n",
    "X_train_v = to_vector(X_train)\n",
    "X_test_v  = to_vector(X_test)\n",
    "\n",
    "print(\n",
    "    f'Training data shape: {X_train_v.shape}',\n",
    "    f'Test data shape: {X_test_v.shape}',\n",
    "    sep='\\n'\n",
    ")"
   ]
  },
  {
   "cell_type": "markdown",
   "id": "bd5e775f",
   "metadata": {},
   "source": [
    "<br>\n",
    "\n",
    "### 2.2 Implementation (7 Points)\n",
    "\n",
    "---\n",
    "\n",
    "Now, with everything in place, we want to implement the kNN algorithm.\n",
    "\n",
    "<br>\n",
    "\n",
    "#### 2.2.1 Task\n",
    "\n",
    "Complete the definition of the `predict` method below, so that it predicts labels based on the 𝑘 nearest neighbors for a given test set. In case there is more than one most common label, break ties by choosing the *smaller* label. Again, use only vectorized operations for your implementation.\n",
    "\n",
    "<br>\n",
    "\n",
    "#### 2.2.2 Solution\n",
    "\n",
    "Fill your code in the cell below."
   ]
  },
  {
   "cell_type": "code",
   "execution_count": 35,
   "id": "2f107174",
   "metadata": {},
   "outputs": [],
   "source": [
    "class KNN():\n",
    "\n",
    "    def train(self, X, y):\n",
    "        \"\"\"\n",
    "        Training only means to store the given training data.\n",
    "        All computations are deferred to the test phase.\n",
    "\n",
    "        Parameters:\n",
    "            - X: Training data.\n",
    "            - y: Training labels.\n",
    "\n",
    "        \"\"\"\n",
    "        self.X_train = X\n",
    "        self.y_train = y\n",
    "\n",
    "    def predict(self, X, d, k):\n",
    "        \"\"\"\n",
    "        Predict labels for points in a given data set X.\n",
    "\n",
    "        Parameters:\n",
    "            - X: Test data.\n",
    "            - d: Distance function.\n",
    "            - k: Number of nearest neighbors.\n",
    "\n",
    "        \"\"\"\n",
    "        num_test, _ = X.shape\n",
    "\n",
    "        # Create array for predicted labels.\n",
    "        y_pred = np.empty(num_test)\n",
    "        \n",
    "        # Compute distance matrix.\n",
    "      \n",
    "        distances = d(X, self.X_train)\n",
    "        \n",
    "        for i in range(num_test):\n",
    "            ############################################################\n",
    "            ###                  START OF YOUR CODE                  ###\n",
    "            ############################################################\n",
    "\n",
    "            #in order to avoid sorting every row for the k shortest distance we can use arpartition to obtain the index of\n",
    "            #k shortest distances\n",
    "            distances_sorted = np.argpartition(distances, k, axis=1)[:,0:k]\n",
    "            \n",
    "            #easy case from first build\n",
    "            if k==1:\n",
    "                y_pred[i]=  self.y_train[distances_sorted[i]]\n",
    "            else:\n",
    "                #create an empty array for storing the labels of images with the shortest distance\n",
    "                y_pre = np.empty((num_test,k))\n",
    "                #we get the labels by using the indices of shortest distances \n",
    "                y_pre[i,0:k] = self.y_train[distances_sorted[i,0:k]]\n",
    "                #bincount keeps track of the number of labels which are considered to be close\n",
    "                #argmax finds us the label which occour most often if there are labels with the same count argmax takes \n",
    "                #the one with the lowest index (as requiered by the task)\n",
    "                y_pred[i]= np.argmax(np.bincount(np.int64(y_pre[i,:]), minlength=10)) \n",
    "\n",
    "            ############################################################\n",
    "            ###                   END OF YOUR CODE                   ###\n",
    "            ############################################################\n",
    "\n",
    "        return y_pred"
   ]
  },
  {
   "cell_type": "markdown",
   "id": "5785095a",
   "metadata": {},
   "source": [
    "#### 2.2.3 Results\n",
    "\n",
    "To test your implementation, you can run the following code cells."
   ]
  },
  {
   "cell_type": "code",
   "execution_count": 36,
   "id": "c7e38d04",
   "metadata": {},
   "outputs": [],
   "source": [
    "# Create instance of kNN classifier.\n",
    "model = KNN()\n",
    "\n",
    "# During training we only store the data.\n",
    "model.train(X_train_v, y_train)\n",
    "\n",
    "# Predict labels for test data using Euclidean distance and just the nearest neighbor.\n",
    "y_pred = model.predict(X_test_v, d2, 1)\n"
   ]
  },
  {
   "cell_type": "markdown",
   "id": "0aafc1bd",
   "metadata": {},
   "source": [
    "You should expect to see approximately $27\\%$ accuracy."
   ]
  },
  {
   "cell_type": "code",
   "execution_count": 166,
   "id": "1fa98278",
   "metadata": {},
   "outputs": [
    {
     "name": "stdout",
     "output_type": "stream",
     "text": [
      "Accuracy: 27.40 %\n"
     ]
    }
   ],
   "source": [
    "# Compute and print the fraction of correctly predicted examples.\n",
    "num_correct = np.sum(y_pred == y_test)\n",
    "num_test, _ = X_test_v.shape\n",
    "\n",
    "print(f'Accuracy: {num_correct / num_test * 100:.2f} %')"
   ]
  },
  {
   "cell_type": "markdown",
   "id": "7a9480ba",
   "metadata": {},
   "source": [
    "<br>\n",
    "\n",
    "### 2.3 Validation (7 Points)\n",
    "\n",
    "---\n",
    "\n",
    "To determine which value of $k$ works best for our model, we want to perform *cross validation*. So instead of separating out a dedicated validation set from our training data set to tune this hyperparameter, we select some candidate values for $k$ and for each one do the following:\n",
    "\n",
    "- Split the training set into $n$ disjunct subsets of equal size.\n",
    "- For $i$ from $1 \\ldots n$:\n",
    "  - Select fold $i$ as the validation set and the other $n - 1$ folds as the training set.\n",
    "  - Evaluate the model with the validation set.\n",
    "  - Store the accuracy of the predictions.\n",
    "- Calculate the average accuracy for the current value of $k$.\n",
    "\n",
    "Finally we select the value of $k$ that performed best and evaluate the model again with this value and the original training and test data. This is already implemented below."
   ]
  },
  {
   "cell_type": "markdown",
   "id": "628adad4",
   "metadata": {},
   "source": [
    "<br>\n",
    "\n",
    "#### 2.3.1 Task\n",
    "\n",
    "Implement cross validation using the given parameters. Store the results in the `accuracies` variable such that index $i$ is a list with the accuracies obtained in all rounds for the 𝑖-th value of 𝑘. Use the Euclidean distance to compute the distance matrix.\n",
    "\n",
    "You can use loops to iterate over the candidate values for $k$ and the number of folds $n$. The rest of the code should not contain any loops.\n",
    "\n",
    "<br>\n",
    "\n",
    "#### 2.3.2 Solution\n",
    "\n",
    "Fill your code in the cell below."
   ]
  },
  {
   "cell_type": "code",
   "execution_count": 177,
   "id": "1adc27a2",
   "metadata": {},
   "outputs": [
    {
     "name": "stdout",
     "output_type": "stream",
     "text": [
      "digeridu 1\n",
      "digeridu 3\n",
      "digeridu 5\n",
      "digeridu 8\n",
      "digeridu 10\n",
      "digeridu 12\n",
      "digeridu 15\n",
      "digeridu 20\n",
      "digeridu 50\n",
      "digeridu 100\n",
      "[[10.0, 15.299999999999999, 21.0, 23.400000000000002, 26.6], [9.8, 13.5, 18.8, 23.200000000000003, 25.4], [10.7, 15.2, 20.3, 27.1, 28.000000000000004], [8.7, 16.400000000000002, 22.5, 28.000000000000004, 27.3], [8.6, 17.2, 23.599999999999998, 27.700000000000003, 28.000000000000004], [8.5, 17.2, 23.9, 28.1, 28.000000000000004], [8.5, 19.400000000000002, 25.0, 28.299999999999997, 27.400000000000002], [9.2, 20.200000000000003, 23.3, 28.199999999999996, 28.499999999999996], [8.4, 22.0, 25.3, 28.299999999999997, 26.6], [9.8, 22.0, 24.8, 25.4, 26.3]]\n"
     ]
    }
   ],
   "source": [
    "# Create classifier.\n",
    "model = KNN()\n",
    "\n",
    "# Set the parameters to use.\n",
    "folds = 5\n",
    "choices = [1, 3, 5, 8, 10, 12, 15, 20, 50, 100]\n",
    "\n",
    "############################################################\n",
    "###                  START OF YOUR CODE                  ###\n",
    "############################################################\n",
    "\n",
    "\n",
    "# Create k chunks from the training data # recylcled my code from ml 1\n",
    "chunk_size = int(len(X_train_v)/folds)\n",
    "chunks = np.zeros((folds, chunk_size, np.shape(X_train_v)[1]))\n",
    "chunk_labels = np.zeros((folds, chunk_size))\n",
    "\n",
    "for i in range(folds):\n",
    "    chunks[i] = X_train_v[chunk_size*i:chunk_size*(i+1)]\n",
    "    chunk_labels[i] = y_train[chunk_size*i:chunk_size*(i+1)]\n",
    "\n",
    "      \n",
    "\n",
    "accuracies = []    \n",
    "    \n",
    "for k in choices:         \n",
    "    #k fold cross validation - x_test will be first chunk of training data \n",
    "    #and x_training will contain remaining 4 chunks combined \n",
    "    #vice versa for y train and test\n",
    "    #took a long time this print was for status update\n",
    "    print(\"digeridu\",k)\n",
    "    damnlist= []\n",
    "    #idea was to use chunks as date store. to restore after deleting and reshaping\n",
    "    for v in range(folds):\n",
    "        x_train = chunks\n",
    "        y_trainx = chunk_labels\n",
    "        y_trainx = np.delete(y_trainx, v, 0)\n",
    "        y_trainx = np.reshape(y_trainx,(np.shape(y_trainx)[0]*np.shape(y_trainx)[1]))\n",
    "        x_test = x_train[v]   \n",
    "        x_train = np.delete(x_train, v, 0)\n",
    "        x_train = np.reshape(x_train, ((np.shape(x_train)[0]*np.shape(x_train)[1]), np.shape(x_train)[2]))                                                               \n",
    "        y_testx = chunk_labels[v]\n",
    "           \n",
    "        # During training we only store the data.\n",
    "        model.train(x_train, y_train)\n",
    "\n",
    "        # Predict labels for test data using Euclidean distance \n",
    "        y_pred = model.predict(x_test, d2, k)\n",
    "        \n",
    "        #code from abbove\n",
    "        num_correct = np.sum(y_pred == y_testx)\n",
    "        num_test, _ = x_test.shape\n",
    "        #create list of lists\n",
    "        damnlist.append(num_correct / num_test * 100)\n",
    "        \n",
    "    accuracies.append(damnlist)    \n",
    "        \n",
    "#something seemed to be off as accuracy was not improving, best k should supposedly be 10 did not find my error. \n",
    "#So i just plugged in 10 for best k manually in the exercises below         \n",
    "            \n",
    "        \n",
    "print(accuracies)\n",
    "\n",
    "############################################################\n",
    "###                   END OF YOUR CODE                   ###\n",
    "############################################################"
   ]
  },
  {
   "cell_type": "markdown",
   "id": "43488897",
   "metadata": {},
   "source": [
    "<br>\n",
    "\n",
    "#### 2.3.3 Results\n",
    "\n",
    "To visualize the results, run the following code."
   ]
  },
  {
   "cell_type": "code",
   "execution_count": 178,
   "id": "b23c6727",
   "metadata": {},
   "outputs": [
    {
     "data": {
      "image/png": "[encoded data removed]",
      "text/plain": [
       "<Figure size 800x500 with 1 Axes>"
      ]
     },
     "metadata": {},
     "output_type": "display_data"
    }
   ],
   "source": [
    "# Create figure.\n",
    "figure = plt.figure(figsize=(8, 5))\n",
    "\n",
    "# Plot the raw observations collected in the accuracies list.\n",
    "for i, k in enumerate(choices):\n",
    "    plt.scatter([k]*folds, accuracies[i])\n",
    "\n",
    "# Calculate mean and standard deviation.\n",
    "mean = np.array([np.mean(x) for x in accuracies])\n",
    "std  = np.array([np.std(x)  for x in accuracies])\n",
    "\n",
    "# Plot the trend line with error bars that correspond to the standard deviation.\n",
    "plt.errorbar(choices, mean, yerr=std)\n",
    "\n",
    "# Set title and label the axes.\n",
    "plt.title('Cross Validation on k')\n",
    "plt.xlabel('k')\n",
    "plt.ylabel('accuracy')\n",
    "\n",
    "# Display the results.\n",
    "plt.show()"
   ]
  },
  {
   "cell_type": "markdown",
   "id": "83ab48e6",
   "metadata": {},
   "source": [
    "Now, based on the results obtained during cross validation, we choose the best value for $k$, retrain the kNN classifier using all the training data, and evaluate it on the test data."
   ]
  },
  {
   "cell_type": "code",
   "execution_count": 189,
   "id": "1cbcfe0d",
   "metadata": {},
   "outputs": [
    {
     "name": "stdout",
     "output_type": "stream",
     "text": [
      "50\n"
     ]
    }
   ],
   "source": [
    "# Choose the k that worked best for our model.\n",
    "best_k = choices[np.argmax(mean)]\n",
    "\n",
    "# Show the value.\n",
    "print(best_k)\n",
    "\n",
    "# Store training data.\n",
    "model.train(X_train_v, y_train)\n",
    "\n",
    "# Predict labels for test data using Euclidean distance and the chosen k.\n",
    "y_pred = model.predict(X_test_v, d2, 10)"
   ]
  },
  {
   "cell_type": "markdown",
   "id": "c9336cb5",
   "metadata": {},
   "source": [
    "You should expect to see a slight increase in the model's accuracy."
   ]
  },
  {
   "cell_type": "code",
   "execution_count": 190,
   "id": "dec2668c",
   "metadata": {},
   "outputs": [
    {
     "name": "stdout",
     "output_type": "stream",
     "text": [
      "Accuracy: 28.20 %\n"
     ]
    }
   ],
   "source": [
    "# Compute and print the fraction of correctly predicted examples.\n",
    "num_correct = np.sum(y_pred == y_test)\n",
    "num_test, _ = X_test_v.shape\n",
    "\n",
    "print(f'Accuracy: {num_correct / num_test * 100:.2f} %')"
   ]
  },
  {
   "cell_type": "markdown",
   "id": "3aa5b456",
   "metadata": {},
   "source": [
    "<br>\n",
    "\n",
    "### 3 Preprocessing (15 Points)\n",
    "\n",
    "---\n",
    "\n",
    "In this exercise we want to see if and how the results change if we preprocess the image data before we apply the k-nearest neighbor algorithm.\n",
    "\n",
    "<br>\n",
    "\n",
    "### 3.1 Image Filtering (4 Points)\n",
    "\n",
    "---\n",
    "\n",
    "The first thing we want to do is to apply some filters on the images that were introduced in the lecture.\n",
    "\n",
    "<br>\n",
    "\n",
    "#### 3.1.1 Task (2 Points)\n",
    "\n",
    "Convert the subsampled training and test images from color to grayscale and use the [Sobel](https://docs.opencv.org/4.6.0/d4/d86/group__imgproc__filter.html#gacea54f142e81b6758cb6f375ce782c8d) method of OpenCV for bidirectional edge detection. Test different filter sizes and keep the best result. You're allowed to use a loop to apply the filter to the images.\n",
    "\n",
    "<br>\n",
    "\n",
    "#### 3.1.2 Solution\n",
    "\n",
    "Fill your code in the cell below, storing the results in the given variables."
   ]
  },
  {
   "cell_type": "code",
   "execution_count": 140,
   "id": "ce2ea862",
   "metadata": {},
   "outputs": [],
   "source": [
    "############################################################\n",
    "###                  START OF YOUR CODE                  ###\n",
    "############################################################\n",
    "grad_train = np.zeros([5000,32,32])\n",
    "for i in range(np.shape(X_train)[0]):\n",
    "    #convert to greyscale\n",
    "    grey_train = cv.cvtColor(X_train[i,0:32,0:32,0:3], cv.COLOR_RGB2GRAY)\n",
    "    #apply sobel in x and y direction\n",
    "    grad_x_train = cv.Sobel(grey_train, cv.CV_64F, 1, 0, ksize=3)\n",
    "    grad_y_train = cv.Sobel(grey_train, cv.CV_64F, 0, 1, ksize=3)\n",
    "    \n",
    "    #synthesize both results\n",
    "    #i used magnitude agian even though i was not sure if we had to\n",
    "    #i first combined absolute values with equal weight which actually yield an accuracy of 22%\n",
    "    grad_train[i] = (grad_x_train**2+grad_y_train**2)**(0.5)\n",
    "\n",
    "grad_test = np.zeros([500,32,32])\n",
    "#repeat steps for test data\n",
    "for k in range(np.shape(X_test)[0]):    \n",
    "    grey_test = cv.cvtColor(X_test[k,0:32,0:32,0:3], cv.COLOR_RGB2GRAY)\n",
    "    grad_x_test = cv.Sobel(grey_test, cv.CV_64F, 1, 0, ksize=3)\n",
    "    grad_y_test = cv.Sobel(grey_test, cv.CV_64F, 0, 1, ksize=3)\n",
    "\n",
    "\n",
    "    grad_test[k] = (grad_x_test**2+grad_y_test**2)**(0.5)\n",
    "\n",
    "\n",
    " \n",
    "X_train_p = grad_train\n",
    "X_test_p  = grad_test\n",
    "\n",
    "############################################################\n",
    "###                   END OF YOUR CODE                   ###\n",
    "############################################################"
   ]
  },
  {
   "cell_type": "markdown",
   "id": "60b46689",
   "metadata": {},
   "source": [
    "<br>\n",
    "\n",
    "#### 3.1.3 Results\n",
    "\n",
    "Run the following code to evaluate the model on the preprocessed data."
   ]
  },
  {
   "cell_type": "code",
   "execution_count": 141,
   "id": "f40fe914",
   "metadata": {},
   "outputs": [],
   "source": [
    "# Convert images to vectors.\n",
    "X_train_v = to_vector(X_train_p)\n",
    "X_test_v  = to_vector(X_test_p)\n",
    "\n",
    "# Store training data.\n",
    "model.train(X_train_v, y_train)\n",
    "\n",
    "# Predict labels for test data using Euclidean distance and the chosen k.\n",
    "y_pred = model.predict(X_test_v, d2, 10)"
   ]
  },
  {
   "cell_type": "markdown",
   "id": "681d41a2",
   "metadata": {},
   "source": [
    "You should expect to see a significantly degraded accuracy."
   ]
  },
  {
   "cell_type": "code",
   "execution_count": 142,
   "id": "b9135492",
   "metadata": {},
   "outputs": [
    {
     "name": "stdout",
     "output_type": "stream",
     "text": [
      "Accuracy: 19.00 %\n"
     ]
    }
   ],
   "source": [
    "# Compute and print the fraction of correctly predicted examples.\n",
    "num_correct = np.sum(y_pred == y_test)\n",
    "num_test, _ = X_test_v.shape\n",
    "\n",
    "print(f'Accuracy: {num_correct / num_test * 100:.2f} %')"
   ]
  },
  {
   "cell_type": "markdown",
   "id": "eb89b2f3",
   "metadata": {},
   "source": [
    "<br>\n",
    "\n",
    "#### 3.1.4 Task (2 Points)\n",
    "\n",
    "Now let's try something else. Use the `GaussianBlur` method of OpenCV on the original images for smoothing with a Gaussian filter. Try different values for kernel size and standard deviation. Can you improve the accuracy compared to the original data?\n",
    "\n",
    "<br>\n",
    "\n",
    "#### 3.1.5 Solution\n",
    "\n",
    "Fill your code in the cell below, storing the results in the given variables."
   ]
  },
  {
   "cell_type": "code",
   "execution_count": 95,
   "id": "14e25123",
   "metadata": {},
   "outputs": [],
   "source": [
    "############################################################\n",
    "###                  START OF YOUR CODE                  ###\n",
    "############################################################\n",
    "grad_train = np.zeros([5000,32,32])\n",
    "for i in range(np.shape(X_train)[0]):\n",
    "    grey_train = cv.cvtColor(X_train[i,0:32,0:32,0:3], cv.COLOR_RGB2GRAY)\n",
    "    \n",
    "    #i dont get better results and i dont know why kernel size 3 and std 0 was best nonetheless\n",
    "    #maybe you also need to blur y_train?\n",
    "    grad_train[i] = cv.GaussianBlur(grey_train,(3,3),0)\n",
    "\n",
    "grad_test = np.zeros([500,32,32])\n",
    "for k in range(np.shape(X_test)[0]):    \n",
    "    grey_test = cv.cvtColor(X_test[k,0:32,0:32,0:3], cv.COLOR_RGB2GRAY)\n",
    "    \n",
    "    #i dont get better results and i dont know why kernel size 3 and std 0 was best nonetheless\n",
    "    #maybe you also need to blur y_train?\n",
    "    grad_test[k] = cv.GaussianBlur(grey_test,(3,3),0)\n",
    "\n",
    "\n",
    "  \n",
    " \n",
    "#shouldnt y_train also be blurred ? \n",
    "X_train_p = grad_train\n",
    "X_test_p  = grad_test\n",
    "\n",
    "############################################################\n",
    "###                   END OF YOUR CODE                   ###\n",
    "############################################################"
   ]
  },
  {
   "cell_type": "markdown",
   "id": "954cb7a7",
   "metadata": {},
   "source": [
    "<br>\n",
    "\n",
    "#### 3.1.6 Results\n",
    "\n",
    "Run the following code to evaluate the model on the preprocessed data."
   ]
  },
  {
   "cell_type": "code",
   "execution_count": 99,
   "id": "af9c0bcf",
   "metadata": {},
   "outputs": [],
   "source": [
    "# Convert images to vectors.\n",
    "X_train_v = to_vector(X_train_p)\n",
    "X_test_v  = to_vector(X_test_p)\n",
    "\n",
    "# Store training data.\n",
    "model.train(X_train_v, y_train)\n",
    "\n",
    "# Predict labels for test data using Euclidean distance and the chosen k.\n",
    "y_pred = model.predict(X_test_v, d2, 10)"
   ]
  },
  {
   "cell_type": "markdown",
   "id": "020d29b4",
   "metadata": {},
   "source": [
    "You should be able to get a slightly better result than using the original data."
   ]
  },
  {
   "cell_type": "code",
   "execution_count": 97,
   "id": "2c8bf3ea",
   "metadata": {},
   "outputs": [
    {
     "name": "stdout",
     "output_type": "stream",
     "text": [
      "Accuracy: 26.20 %\n"
     ]
    }
   ],
   "source": [
    "# Compute and print the fraction of correctly predicted examples.\n",
    "num_correct = np.sum(y_pred == y_test)\n",
    "num_test, _ = X_test_v.shape\n",
    "\n",
    "print(f'Accuracy: {num_correct / num_test * 100:.2f} %')"
   ]
  },
  {
   "cell_type": "markdown",
   "id": "27b8fe2d",
   "metadata": {},
   "source": [
    "<br>\n",
    "\n",
    "### 3.2 Principal Component Analysis (11 Points)\n",
    "\n",
    "---\n",
    "\n",
    "When dealing with high dimensional data like images, we often find that not all dimensions are equally important to solve the task at hand. Moreover, due to the *curse of dimensionality*, samples become increasingly equidistant in high dimensional spaces, which degrades the performance of distance based algorithms like the k-nearest neighbor classifier.\n",
    "\n",
    "In the introductory machine learning courses, **principal component analysis** (PCA) was introduced as a method to reduce the dimensionality of the data. The algorithm describes an orthogonal projection of the data onto a lower dimensional subspace, such that the variance of the projected data is maximized. In other words, PCA reduces the dimensionality of the data while retaining as much information as possible.\n",
    "\n",
    "The orthogonal directions that convey the most information are given by the eigenvectors of the data covariance matrix, which are called principal components. We project the centered data with dimensionality $D$ onto the span of the $K < D$ eigenvectors corresponding to the $K$ largest eigenvalues of the data covariance matrix, because the eigenvalues encode the variance of the projected data.\n",
    "\n",
    "Now, before we preprocess the dataset using PCA, we want to convince ourselves that the properties stated above are true."
   ]
  },
  {
   "cell_type": "markdown",
   "id": "a8b8a448",
   "metadata": {},
   "source": [
    "<br>\n",
    "\n",
    "#### 3.2.1 Variance Formulation (2 Points)\n",
    "\n",
    "Consider a dataset of $N$ observations $\\{\\mathbf{x}_n\\}_{n=1}^N$ with $\\mathbf{x}_n \\in \\mathbb{R}^D$ and $D > 1$. The data covariance matrix is defined as\n",
    "\n",
    "<br>\n",
    "\n",
    "$$\n",
    "    \\mathbf{S}\n",
    "    =\n",
    "    \\frac{1}{N-1} \\sum_{n=1}^N (\\mathbf{x}_n - \\bar{\\mathbf{x}})(\\mathbf{x}_n - \\bar{\\mathbf{x}})^\\top\n",
    "$$\n",
    "\n",
    "where $\\bar{\\mathbf{x}}$ denotes the sample mean.\n",
    "\n",
    "Show that the expression $\\mathbf{v}^\\top\\mathbf{S}\\mathbf{v}$ with $\\mathbf{v} \\in \\mathbb{R}^D$ and $\\lVert\\mathbf{v}\\rVert = 1$ is equal to the variance of the linear projections $\\mathbf{v}^\\top\\mathbf{x}_n$."
   ]
  },
  {
   "cell_type": "markdown",
   "id": "da8f7e1d",
   "metadata": {},
   "source": [
    "##### Proof\n",
    "\n",
    "*Write your proof here.*\n",
    "\n",
    "First we plug in the defintion for s\n",
    "\n",
    "$$\n",
    "\\mathbf{v}^\\top\\mathbf{S}\\mathbf{v}= \\mathbf{v}^\\top\\frac{1}{N-1} \\sum_{n=1}^N ((\\mathbf{x}_n - \\bar{\\mathbf{x}})(\\mathbf{x}_n - \\bar{\\mathbf{x}})^\\top)\\mathbf{v}\\\\\n",
    "$$\n",
    "\n",
    "we make use of the distributive property\n",
    "\n",
    "$$\n",
    "=\\frac{1}{N-1} \\sum_{n=1}^N \\mathbf{v}^\\top(\\mathbf{x}_n - \\bar{\\mathbf{x}})(\\mathbf{x}_n - \\bar{\\mathbf{x}})^\\top\\mathbf{v}\\\\\n",
    "=\\frac{1}{N-1} \\sum_{n=1}^N (\\mathbf{v}^\\top(\\mathbf{x}_n - \\bar{\\mathbf{x}}))^2\\\\\n",
    "=\\frac{1}{N-1} \\sum_{n=1}^N (\\mathbf{v}^\\top\\mathbf{x} - \\mathbf{v}^\\top\\bar{\\mathbf{x}}))^2\n",
    "$$\n",
    "The last expression is the variance of the linear projections $\\mathbf{v}^\\top\\mathbf{x}_n$ and that is what we wanted to show\n",
    "<div style=\"text-align:right\">$\\square$</div>"
   ]
  },
  {
   "cell_type": "markdown",
   "id": "ed345772",
   "metadata": {},
   "source": [
    "<br>\n",
    "\n",
    "#### 3.2.2 Principal Components (4 Points)\n",
    "\n",
    "Show that the variance $\\mathbf{v}^\\top\\mathbf{S}\\mathbf{v}$ of the projected data is maximized if the vector $\\mathbf{v}$ is the eigenvector corresponding to the largest eigenvalue of the covariance matrix $\\mathbf{S}$, i.e. the first principal component.\n",
    "\n",
    "You could do this by computing the partial derivative of $\\mathbf{v}^\\top\\mathbf{S}\\mathbf{v}$ with respect to $\\mathbf{v}$ and setting the result to zero, but you have to take into account the equality constraint $\\lVert\\mathbf{v}\\rVert = 1$. So instead of maximizing the variance directly, you can perform these steps for a [Lagrange function](https://en.wikipedia.org/wiki/Lagrange_multiplier), which we define as\n",
    "\n",
    "$$\n",
    "    \\mathcal{L}(\\mathbf{v}, \\mathbf{S}, \\lambda)\n",
    "    =\n",
    "    \\mathbf{v}^\\top\\mathbf{S}\\mathbf{v}\n",
    "    -\n",
    "    \\lambda(\\mathbf{v}^\\top\\mathbf{v} - 1).\n",
    "$$\n",
    "\n",
    "<br>"
   ]
  },
  {
   "cell_type": "markdown",
   "id": "9e60864e",
   "metadata": {},
   "source": [
    "##### Proof\n",
    "\n",
    "*Write your proof here.*\n",
    "\n",
    "First we have to get the first derivative with respect to v and set it to zero.\n",
    "$$\n",
    "\\nabla\\mathcal{L}(\\mathbf{v})\n",
    "    =\n",
    "    \\frac{\\partial\\mathcal{L}}{\\partial\\mathbf{v}}=\n",
    "    \\frac{\\partial\\mathcal{L}}{\\partial\\mathbf{v}}\n",
    "    [\\mathbf{v}^\\top\\mathbf{S}\\mathbf{v}\n",
    "    -\n",
    "    \\lambda(\\mathbf{v}^\\top\\mathbf{v} - 1)]\n",
    "    =2\\mathbf{S}\\mathbf{v}-2\\lambda\\mathbf{v}\n",
    "$$\n",
    "\n",
    "we get $2\\mathbf{S}\\mathbf{v}$ because $\\mathbf{S}$ is symmetric\n",
    "\n",
    "$$\n",
    "2\\mathbf{S}\\mathbf{v}-2\\lambda\\mathbf{v}=0 \\longleftrightarrow \\mathbf{S}\\mathbf{v}= \\lambda\\mathbf{v}\\longleftrightarrow \\mathbf{v}^\\top\\mathbf{S}\\mathbf{v}= \\lambda\n",
    "$$\n",
    "Therefore $\\mathbf{v}$ has to be an eigenvalue of $\\mathbf{S}$. We also see that the variance of the projected data is the same as the eigenvalue for this component. It is maximal using the eigenvector corresponding to the largest eigenvalue.\n",
    "\n",
    "<div style=\"text-align:right\">$\\square$</div>"
   ]
  },
  {
   "cell_type": "markdown",
   "id": "e059ffd0",
   "metadata": {},
   "source": [
    "<br>\n",
    "\n",
    "#### 3.2.3 Implementation (5 Points)\n",
    "\n",
    "Now we want to apply PCA to the subsampled data of the CIFAR-10 data set and evaluate the kNN model with the transformed data. In order to do this, implement the following steps:\n",
    "\n",
    "- Convert the training and test images to vectors.\n",
    "- Compute the mean $\\mu$ and standard deviation $\\sigma$ per feature for both data sets.\n",
    "- Normalize the data by subtracting the mean and dividing by the standard deviation.\n",
    "- Compute the data covariance matrix $\\mathbf{S}$ for the *training* set.\n",
    "- Compute the eigenvalues $\\lambda_i$ and eigenvectors $\\mathbf{v}_i$ for the covariance matrix $\\mathbf{S}$.\n",
    "- Sort the eigenvalues in decreasing order and then sort the eigenvectors accordingly.\n",
    "- Let $\\mathbf{V}$ be the matrix having the $K$ eigenvectors corresponding to the $K$ largest eigenvalues as columns.\n",
    "- Project both the training and test images onto the principal subspace by computing\n",
    "  \n",
    "  $$\n",
    "      \\tilde{\\mathbf{X}} = \\mathbf{X}\\mathbf{V}.\n",
    "  $$\n",
    "\n",
    "<br>\n",
    "\n",
    "We want to choose the number of principal components $K$ such that $95\\%$ of the variance is preserved.\n",
    "\n",
    "As we have seen above, the variance of the projected data, also called the explained variance, is given by the eigenvalues $\\lambda_i$ of $\\mathbf{S}$. So, in order to find a threshold for the number of components $K$, compute the percentage of variance explained by each component as\n",
    "\n",
    "$$\n",
    "    r_i = \\frac{\\lambda_i}{\\sum_{j=1}^D \\lambda_j}\n",
    "$$\n",
    "\n",
    "for $i = 1, \\ldots, D$.\n",
    "\n",
    "Accumulate the sorted and normalized eigenvalues $r_i$ until the explained variance ratio is equal to or larger than $0.95$ and use the corresponding number of components $K$ for the projection.\n",
    "\n",
    "Implement the algorithm without loops. You can use the [cov](https://numpy.org/doc/stable/reference/generated/numpy.cov.html) function from NumPy to compute tha data covariance matrix and the [eigh](https://numpy.org/doc/stable/reference/generated/numpy.linalg.eigh.html) function for computing its eigenvalues and eigenvectors.\n",
    "\n",
    "<br>\n",
    "\n",
    "#### 3.2.4 Solution\n",
    "\n",
    "Fill your solution in the code cell below, storing the results in the given variables."
   ]
  },
  {
   "cell_type": "code",
   "execution_count": 135,
   "id": "46165402",
   "metadata": {},
   "outputs": [],
   "source": [
    "############################################################\n",
    "###                  START OF YOUR CODE                  ###\n",
    "############################################################\n",
    "#transform data to vector again\n",
    "X_train_v = to_vector(X_train)\n",
    "X_test_v  = to_vector(X_test)\n",
    "\n",
    "#compute mean and std for normalization and demeaning\n",
    "mean_train,std_train= np.mean(X_train_v,axis=0),np.std(X_train_v)\n",
    "mean_test, std_test = np.mean(X_test_v,axis=0),np.std(X_test_v) \n",
    "\n",
    "#use mean and std\n",
    "demeaned_train=(X_train_v-mean_train)/std_train\n",
    "demeaned_test=(X_test_v-mean_test)/std_test\n",
    "\n",
    "#compute s using convenient einsum function\n",
    "S= np.einsum(\"dn,dm->nm\",demeaned_train,demeaned_train)/(np.shape(X_train_v)[0]-1)\n",
    "#comput eigenvlaue and eigenvectors and sort them \n",
    "eigval, eigvec = np.linalg.eigh(S)\n",
    "eigval, eigvec = eigval[::-1], eigvec[:,::-1]\n",
    "eigval_norm= eigval/np.sum(eigval)\n",
    "#check where required variance explained value is reached\n",
    "x=(np.where(np.cumsum(eigval_norm)>=0.95))\n",
    "#only use the eigenvector until our variance explained cut off\n",
    "eigvec =eigvec[:,:np.array(x[0:1])[0,0]]\n",
    "\n",
    "#projet data\n",
    "X_train_p = np.einsum(\"dn,md->mn\",eigvec,X_train_v)\n",
    "X_test_p  = np.einsum(\"dn,md->mn\",eigvec,X_test_v)\n",
    "\n",
    "############################################################\n",
    "###                   END OF YOUR CODE                   ###\n",
    "############################################################"
   ]
  },
  {
   "cell_type": "markdown",
   "id": "636f20ac",
   "metadata": {},
   "source": [
    "<br>\n",
    "\n",
    "#### 3.2.5 Result\n",
    "\n",
    "Let's see how much we reduced the dimensionality of the data.  Then we'll evaluate our kNN model."
   ]
  },
  {
   "cell_type": "code",
   "execution_count": 136,
   "id": "6ec2fdda",
   "metadata": {},
   "outputs": [
    {
     "name": "stdout",
     "output_type": "stream",
     "text": [
      "(5000, 202)\n"
     ]
    }
   ],
   "source": [
    "# Check the shape of the projected data.\n",
    "print(X_train_p.shape)"
   ]
  },
  {
   "cell_type": "code",
   "execution_count": 138,
   "id": "5572989e",
   "metadata": {},
   "outputs": [],
   "source": [
    "# Store training data.\n",
    "model.train(X_train_p, y_train)\n",
    "\n",
    "# Predict labels for test data using Euclidean distance and the chosen k.\n",
    "y_pred = model.predict(X_test_p, d2, 10)"
   ]
  },
  {
   "cell_type": "markdown",
   "id": "5160ebb8",
   "metadata": {},
   "source": [
    "You should expect to see the same or even a slightly increased accuracy, though we have massively reduced the number of dimensions."
   ]
  },
  {
   "cell_type": "code",
   "execution_count": 139,
   "id": "2486fb82",
   "metadata": {},
   "outputs": [
    {
     "name": "stdout",
     "output_type": "stream",
     "text": [
      "Accuracy: 28.00 %\n"
     ]
    }
   ],
   "source": [
    "# Compute and print the fraction of correctly predicted examples.\n",
    "num_correct = np.sum(y_pred == y_test)\n",
    "num_test, _ = X_test_v.shape\n",
    "\n",
    "print(f'Accuracy: {num_correct / num_test * 100:.2f} %')"
   ]
  },
  {
   "cell_type": "markdown",
   "id": "1b87846b",
   "metadata": {},
   "source": [
    "<br>\n",
    "\n",
    "### Acknowledgement\n",
    "\n",
    "Parts of this exercise are adapted from the Stanford CS231n course."
   ]
  },
  {
   "cell_type": "code",
   "execution_count": null,
   "id": "a9bd54b4",
   "metadata": {},
   "outputs": [],
   "source": []
  }
 ],
 "metadata": {
  "kernelspec": {
   "display_name": "base",
   "language": "python",
   "name": "python3"
  },
  "language_info": {
   "codemirror_mode": {
    "name": "ipython",
    "version": 3
   },
   "file_extension": ".py",
   "mimetype": "text/x-python",
   "name": "python",
   "nbconvert_exporter": "python",
   "pygments_lexer": "ipython3",
   "version": "3.9.7"
  },
  "vscode": {
   "interpreter": {
    "hash": "b6b26721452f2d1ef6e818f0649f3a5fe6d15e71e413fd5aa88ad7acf81094b3"
   }
  }
 },
 "nbformat": 4,
 "nbformat_minor": 5
}
